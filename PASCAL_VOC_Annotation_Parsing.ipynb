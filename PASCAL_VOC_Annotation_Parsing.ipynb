{
  "nbformat": 4,
  "nbformat_minor": 0,
  "metadata": {
    "colab": {
      "provenance": [],
      "authorship_tag": "ABX9TyP+CqXNrSTH7lPgKCVtfK1T",
      "include_colab_link": true
    },
    "kernelspec": {
      "name": "python3",
      "display_name": "Python 3"
    },
    "language_info": {
      "name": "python"
    }
  },
  "cells": [
    {
      "cell_type": "markdown",
      "metadata": {
        "id": "view-in-github",
        "colab_type": "text"
      },
      "source": [
        "<a href=\"https://colab.research.google.com/github/vidurp/notebooks/blob/main/PASCAL_VOC_Annotation_Parsing.ipynb\" target=\"_parent\"><img src=\"https://colab.research.google.com/assets/colab-badge.svg\" alt=\"Open In Colab\"/></a>"
      ]
    },
    {
      "cell_type": "markdown",
      "source": [
        "#Parse PASCAL Annotation Format v1.0\n",
        "\n",
        "Noteboook to implement code to parse annotation files for PASCAL VOC Dataset\n",
        "\n",
        "http://host.robots.ox.ac.uk/pascal/VOC/"
      ],
      "metadata": {
        "id": "At1ZOrBtLjQB"
      }
    },
    {
      "cell_type": "code",
      "source": [
        "#Example Annotation Text File\n",
        "# This is a sample string with 2 objects, although not present in PASCAL-VOC 2005,\n",
        "# we can support it now\n",
        "\n",
        "String = '''# PASCAL Annotation Version 1.00\n",
        "\n",
        "Image filename : \"VOC2005_1/PNGImages/ETHZ_motorbike-testset/motorbikes005.png\"\n",
        "Image size (X x Y x C) : 640 x 480 x 3\n",
        "Database : \"The VOC2005 Dataset 1 Database (ETHZ)\"\n",
        "Objects with ground truth : 2 { \"A\", \"B\" }\n",
        "\n",
        "# Note that there might be other objects in the image\n",
        "# for which ground truth data has not been provided.\n",
        "\n",
        "# Top left pixel co-ordinates : (1, 1)\n",
        "\n",
        "# Details for object 1 (\"A\")\n",
        "Original label for object 1 \"A\" : \"Class_A\"\n",
        "Bounding box for object 1 \"A\" (Xmin, Ymin) - (Xmax, Ymax) : (206, 242) - (427, 365)\n",
        "\n",
        "# Details for object 2 (\"B\")\n",
        "Original label for object 2 \"B\" : \"Class_B\"\n",
        "Bounding box for object 2 \"B\" (Xmin, Ymin) - (Xmax, Ymax) : (112, 112) - (333, 333)\n",
        "'''\n",
        "print(String)"
      ],
      "metadata": {
        "id": "-6tD-Kq1S10L",
        "colab": {
          "base_uri": "https://localhost:8080/"
        },
        "outputId": "8ee57d4e-ef90-42c1-c3cc-b56d36abaa12"
      },
      "execution_count": null,
      "outputs": [
        {
          "output_type": "stream",
          "name": "stdout",
          "text": [
            "# PASCAL Annotation Version 1.00\n",
            "\n",
            "Image filename : \"VOC2005_1/PNGImages/ETHZ_motorbike-testset/motorbikes005.png\"\n",
            "Image size (X x Y x C) : 640 x 480 x 3\n",
            "Database : \"The VOC2005 Dataset 1 Database (ETHZ)\"\n",
            "Objects with ground truth : 2 { \"A\", \"B\" }\n",
            "\n",
            "# Note that there might be other objects in the image\n",
            "# for which ground truth data has not been provided.\n",
            "\n",
            "# Top left pixel co-ordinates : (1, 1)\n",
            "\n",
            "# Details for object 1 (\"A\")\n",
            "Original label for object 1 \"A\" : \"Class_A\"\n",
            "Bounding box for object 1 \"A\" (Xmin, Ymin) - (Xmax, Ymax) : (206, 242) - (427, 365)\n",
            "\n",
            "# Details for object 2 (\"B\")\n",
            "Original label for object 2 \"B\" : \"Class_B\"\n",
            "Bounding box for object 2 \"B\" (Xmin, Ymin) - (Xmax, Ymax) : (112, 112) - (333, 333)\n",
            "\n"
          ]
        }
      ]
    },
    {
      "cell_type": "code",
      "source": [
        "import re\n",
        "\n",
        "def ParsePascalString( str ):\n",
        "    Lines = str.split('\\n')\n",
        "    ClassList = []\n",
        "    BndBoxList = []\n",
        "    for line in Lines:\n",
        "        if 'filename' in line:\n",
        "            line = line.split(':')\n",
        "            FileName = re.findall(r'(?<=[\"\\']).*?(?=[\"\\'])', line[1])\n",
        "        if 'Original' in line:\n",
        "            line = line.split(':')\n",
        "            ClassList.append(re.findall(r'(?<=[\"\\']).*?(?=[\"\\'])', line[1]))\n",
        "        if 'Image size' in line:\n",
        "            line = line.split(':')\n",
        "            ImageSize  = re.findall('\\d+',line[1])\n",
        "        if 'Bounding' in line:\n",
        "            line = line.split(':')\n",
        "            BndBoxList.append(re.findall('\\d+',line[1]))\n",
        "        if 'Objects with ground truth' in line:\n",
        "            line = line.split(':')\n",
        "            NumObjects = re.findall(r'\\d+', line[1])\n",
        "\n",
        "    Dict = {\n",
        "        'filepath' : FileName[0],\n",
        "        'numobjects' : NumObjects[0],\n",
        "        'imagesize' : {\n",
        "            'width': ImageSize[0],\n",
        "            'height': ImageSize[1],\n",
        "            'channels': ImageSize[2]\n",
        "        },\n",
        "        'object' : []\n",
        "    }\n",
        "\n",
        "    # Populate all Objects\n",
        "    for Idx in range(int(NumObjects[0])):\n",
        "        Obj = {\n",
        "            'label' : ClassList[Idx][0],\n",
        "            'bndbox' : {\n",
        "                'xmin': BndBoxList[Idx][0],\n",
        "                'ymin': BndBoxList[Idx][1],\n",
        "                'xmax': BndBoxList[Idx][2],\n",
        "                'ymax': BndBoxList[Idx][3]\n",
        "                }\n",
        "        }\n",
        "\n",
        "        Dict['object'].append(Obj)\n",
        "\n",
        "    return ( Dict )"
      ],
      "metadata": {
        "id": "235c03bUA__t"
      },
      "execution_count": null,
      "outputs": []
    },
    {
      "cell_type": "code",
      "source": [
        "# test parsing\n",
        "print(ParsePascalString(String))"
      ],
      "metadata": {
        "colab": {
          "base_uri": "https://localhost:8080/"
        },
        "id": "zEGqr7QdLQot",
        "outputId": "951b7d6b-ba8a-43ae-a9b9-511acdfef8ea"
      },
      "execution_count": null,
      "outputs": [
        {
          "output_type": "stream",
          "name": "stdout",
          "text": [
            "{'filepath': 'VOC2005_1/PNGImages/ETHZ_motorbike-testset/motorbikes005.png', 'numobjects': '2', 'imagesize': {'width': '640', 'height': '480', 'channels': '3'}, 'object': [{'label': 'Class_A', 'bndbox': {'xmin': '206', 'ymin': '242', 'xmax': '427', 'ymax': '365'}}, {'label': 'Class_B', 'bndbox': {'xmin': '112', 'ymin': '112', 'xmax': '333', 'ymax': '333'}}]}\n"
          ]
        }
      ]
    },
    {
      "cell_type": "markdown",
      "source": [
        "# Get the dataset"
      ],
      "metadata": {
        "id": "nGzeK-vKL2xn"
      }
    },
    {
      "cell_type": "code",
      "source": [
        "!wget http://host.robots.ox.ac.uk/pascal/VOC/download/voc2005_1.tar.gz"
      ],
      "metadata": {
        "colab": {
          "base_uri": "https://localhost:8080/"
        },
        "id": "w6hKocj8LjbI",
        "outputId": "ca351f0f-583d-4438-f907-f2ab5db54dc6"
      },
      "execution_count": null,
      "outputs": [
        {
          "output_type": "stream",
          "name": "stdout",
          "text": [
            "--2025-01-12 19:23:30--  http://host.robots.ox.ac.uk/pascal/VOC/download/voc2005_1.tar.gz\n",
            "Resolving host.robots.ox.ac.uk (host.robots.ox.ac.uk)... 129.67.94.152\n",
            "Connecting to host.robots.ox.ac.uk (host.robots.ox.ac.uk)|129.67.94.152|:80... connected.\n",
            "HTTP request sent, awaiting response... 200 OK\n",
            "Length: 487614356 (465M) [application/x-gzip]\n",
            "Saving to: ‘voc2005_1.tar.gz’\n",
            "\n",
            "voc2005_1.tar.gz    100%[===================>] 465.02M  23.9MB/s    in 21s     \n",
            "\n",
            "2025-01-12 19:23:51 (22.5 MB/s) - ‘voc2005_1.tar.gz’ saved [487614356/487614356]\n",
            "\n"
          ]
        }
      ]
    },
    {
      "cell_type": "code",
      "source": [
        "import tarfile\n",
        "with tarfile.open('voc2005_1.tar.gz', 'r:gz') as tar:\n",
        "        tar.extractall(path='.')\n"
      ],
      "metadata": {
        "id": "IzBgF91zMGso"
      },
      "execution_count": null,
      "outputs": []
    },
    {
      "cell_type": "code",
      "source": [
        "# check number for files in PASCAL VOC 2005 set\n",
        "import os\n",
        "ImageFileCount = 0\n",
        "for root, dir, files in os.walk('/content/VOC2005_1/PNGImages'):\n",
        "    print(f'Dir {root} has {len(dir)} dirs, {len(files)} files')\n",
        "    ImageFileCount = ImageFileCount + len(files)\n",
        "\n",
        "print(f'Total Files {ImageFileCount}')"
      ],
      "metadata": {
        "colab": {
          "base_uri": "https://localhost:8080/"
        },
        "id": "QaCr8bWoBJYe",
        "outputId": "06c8342e-25b7-49ca-b284-47fd63610ebf"
      },
      "execution_count": null,
      "outputs": [
        {
          "output_type": "stream",
          "name": "stdout",
          "text": [
            "Dir /content/VOC2005_1/PNGImages has 9 dirs, 0 files\n",
            "Dir /content/VOC2005_1/PNGImages/ETHZ_motorbike-testset has 0 dirs, 95 files\n",
            "Dir /content/VOC2005_1/PNGImages/TUGraz_cars has 0 dirs, 271 files\n",
            "Dir /content/VOC2005_1/PNGImages/UIUC_TestImages has 0 dirs, 136 files\n",
            "Dir /content/VOC2005_1/PNGImages/TUGraz_person has 0 dirs, 168 files\n",
            "Dir /content/VOC2005_1/PNGImages/Caltech_cars has 0 dirs, 14 files\n",
            "Dir /content/VOC2005_1/PNGImages/Caltech_motorbikes_side has 0 dirs, 335 files\n",
            "Dir /content/VOC2005_1/PNGImages/ETHZ_sideviews-cars has 0 dirs, 50 files\n",
            "Dir /content/VOC2005_1/PNGImages/TUGraz_bike has 0 dirs, 228 files\n",
            "Dir /content/VOC2005_1/PNGImages/UIUC_TestImages_Scale has 0 dirs, 76 files\n",
            "Total Files 1373\n"
          ]
        }
      ]
    },
    {
      "cell_type": "markdown",
      "source": [
        "# JSONify the Annotations"
      ],
      "metadata": {
        "id": "6YjhQQ5PGJIV"
      }
    },
    {
      "cell_type": "code",
      "source": [
        "import json\n",
        "def CreateJSONFromPascalDataSet( RootFilePath, JSONFileName ):\n",
        "    \"\"\"\n",
        "    Creates a JSON File from a Tree Structure of PASCAL VOC image data\n",
        "    PASCAL - Pattern Analysis, Statistical Modeling & Computational Learning\n",
        "             built by University of Oxford. The root directory is expected in the\n",
        "             following format\n",
        "              VOC\n",
        "              +->Annotations\n",
        "                    +->Class1\n",
        "                    +->Class2\n",
        "              +->GTMasks\n",
        "                    +->Class1\n",
        "                    +->Class2\n",
        "              +->PNGImages\n",
        "                    +->Class1\n",
        "                    +->Class2\n",
        "\n",
        "    Args:\n",
        "      RootFilePath - Dataset Root directory\n",
        "      JSONFileName - JSON File to save\n",
        "\n",
        "    Returns:\n",
        "       void\n",
        "    \"\"\"\n",
        "    # Write the data to a JSON file\n",
        "    JsonData = { 'Files' : [],\n",
        "                 'labels' : []\n",
        "    }\n",
        "\n",
        "    Idx = 0\n",
        "    with open(JSONFileName, \"w\") as outfile:\n",
        "        for Root, Dirs, Files in os.walk( RootFilePath + '/Annotations' ):\n",
        "            for File in Files:\n",
        "                with open(Root + '/' + File, 'r') as TextFile:\n",
        "                    Text = TextFile.read()\n",
        "                    TextFile.close()\n",
        "                    tokens = ParsePascalString( Text )\n",
        "                    JsonData[ 'Files' ].append(tokens)\n",
        "                    Idx = Idx + 1\n",
        "\n",
        "        # Write num images to dict\n",
        "        JsonData['NumImages'] = Idx\n",
        "\n",
        "        # Write class lables to dict\n",
        "        labels = os.listdir( RootFilePath + '/Annotations' )\n",
        "        for Idx in range(len(labels)):\n",
        "            JsonData['labels'].append({'label' : labels[Idx]})\n",
        "\n",
        "\n",
        "        # convert dict to json\n",
        "        json_string = json.dumps(JsonData)\n",
        "        # write json  to disc\n",
        "        outfile.write(json_string)\n",
        "        outfile.close()\n",
        "\n",
        "\n"
      ],
      "metadata": {
        "id": "sPAthpnlKuNg"
      },
      "execution_count": null,
      "outputs": []
    },
    {
      "cell_type": "code",
      "source": [
        "os.listdir('/content/VOC2005_1/Annotations')"
      ],
      "metadata": {
        "colab": {
          "base_uri": "https://localhost:8080/"
        },
        "id": "EwwdBs18KjS9",
        "outputId": "35af4a7a-e75b-4218-b26c-9ca4c4ce0d9e"
      },
      "execution_count": null,
      "outputs": [
        {
          "output_type": "execute_result",
          "data": {
            "text/plain": [
              "['ETHZ_motorbike-testset',\n",
              " 'TUGraz_cars',\n",
              " 'UIUC_TestImages',\n",
              " 'TUGraz_person',\n",
              " 'Caltech_cars',\n",
              " 'Caltech_motorbikes_side',\n",
              " 'ETHZ_sideviews-cars',\n",
              " 'TUGraz_bike',\n",
              " 'UIUC_TestImages_Scale']"
            ]
          },
          "metadata": {},
          "execution_count": 119
        }
      ]
    },
    {
      "cell_type": "code",
      "source": [
        "CreateJSONFromPascalDataSet('/content/VOC2005_1','test.json')"
      ],
      "metadata": {
        "id": "ChIWi8rhNL2X"
      },
      "execution_count": null,
      "outputs": []
    }
  ]
}