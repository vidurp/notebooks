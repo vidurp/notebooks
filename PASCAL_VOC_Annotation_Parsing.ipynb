{
  "nbformat": 4,
  "nbformat_minor": 0,
  "metadata": {
    "colab": {
      "provenance": [],
      "authorship_tag": "ABX9TyOTLNS5xMYTKKYkGJAWYWr6",
      "include_colab_link": true
    },
    "kernelspec": {
      "name": "python3",
      "display_name": "Python 3"
    },
    "language_info": {
      "name": "python"
    }
  },
  "cells": [
    {
      "cell_type": "markdown",
      "metadata": {
        "id": "view-in-github",
        "colab_type": "text"
      },
      "source": [
        "<a href=\"https://colab.research.google.com/github/vidurp/notebooks/blob/main/PASCAL_VOC_Annotation_Parsing.ipynb\" target=\"_parent\"><img src=\"https://colab.research.google.com/assets/colab-badge.svg\" alt=\"Open In Colab\"/></a>"
      ]
    },
    {
      "cell_type": "markdown",
      "source": [
        "#Parse PASCAL Annotation Format v1.0\n",
        "\n",
        "Noteboook to implement code to parse annotation files for PASCAL VOC Dataset\n",
        "\n",
        "http://host.robots.ox.ac.uk/pascal/VOC/"
      ],
      "metadata": {
        "id": "At1ZOrBtLjQB"
      }
    },
    {
      "cell_type": "code",
      "source": [
        "#Example Annotation Text File\n",
        "\n",
        "String = '''# PASCAL Annotation Version 1.00\n",
        "\n",
        "Image filename : \"VOC2005_1/PNGImages/ETHZ_motorbike-testset/motorbikes005.png\"\n",
        "Image size (X x Y x C) : 640 x 480 x 3\n",
        "Database : \"The VOC2005 Dataset 1 Database (ETHZ)\"\n",
        "Objects with ground truth : 1 { \"PASmotorbikeSide\" }\n",
        "\n",
        "# Note that there might be other objects in the image\n",
        "# for which ground truth data has not been provided.\n",
        "\n",
        "# Top left pixel co-ordinates : (1, 1)\n",
        "\n",
        "# Details for object 1 (\"PASmotorbikeSide\")\n",
        "Original label for object 1 \"PASmotorbikeSide\" : \"motorbikeSide\"\n",
        "Bounding box for object 1 \"PASmotorbikeSide\" (Xmin, Ymin) - (Xmax, Ymax) : (206, 242) - (427, 365)\n",
        "'''\n",
        "print(String)"
      ],
      "metadata": {
        "id": "-6tD-Kq1S10L",
        "colab": {
          "base_uri": "https://localhost:8080/"
        },
        "outputId": "6b3c10bc-c329-496c-fe53-3b3a5a752b97"
      },
      "execution_count": 101,
      "outputs": [
        {
          "output_type": "stream",
          "name": "stdout",
          "text": [
            "# PASCAL Annotation Version 1.00\n",
            "\n",
            "Image filename : \"VOC2005_1/PNGImages/ETHZ_motorbike-testset/motorbikes005.png\"\n",
            "Image size (X x Y x C) : 640 x 480 x 3\n",
            "Database : \"The VOC2005 Dataset 1 Database (ETHZ)\"\n",
            "Objects with ground truth : 1 { \"PASmotorbikeSide\" }\n",
            "\n",
            "# Note that there might be other objects in the image\n",
            "# for which ground truth data has not been provided.\n",
            "\n",
            "# Top left pixel co-ordinates : (1, 1)\n",
            "\n",
            "# Details for object 1 (\"PASmotorbikeSide\")\n",
            "Original label for object 1 \"PASmotorbikeSide\" : \"motorbikeSide\"\n",
            "Bounding box for object 1 \"PASmotorbikeSide\" (Xmin, Ymin) - (Xmax, Ymax) : (206, 242) - (427, 365)\n",
            "\n"
          ]
        }
      ]
    },
    {
      "cell_type": "code",
      "source": [
        "import re\n",
        "\n",
        "def ParsePascalString( str ):\n",
        "    Lines = str.split('\\n')\n",
        "    for line in Lines:\n",
        "        if('filename' in line):\n",
        "            line = line.split(':')\n",
        "            FileName = re.findall(r'(?<=[\"\\']).*?(?=[\"\\'])', line[1])\n",
        "        if('Original' in line):\n",
        "            line = line.split(':')\n",
        "            Label = re.findall(r'(?<=[\"\\']).*?(?=[\"\\'])', line[1])\n",
        "        if('Bounding' in line):\n",
        "            line = line.split(':')\n",
        "            bbox = re.findall('\\d+',line[1])\n",
        "\n",
        "    Dict = {\n",
        "        'FilePath' : FileName[0],\n",
        "        'class' : Label[0],\n",
        "        'xmin': bbox[0],\n",
        "        'ymin': bbox[1],\n",
        "        'xmax': bbox[2],\n",
        "        'ymax': bbox[3]\n",
        "    }\n",
        "    return ( Dict )"
      ],
      "metadata": {
        "id": "235c03bUA__t"
      },
      "execution_count": 102,
      "outputs": []
    },
    {
      "cell_type": "code",
      "source": [
        "\n",
        "print(ParseString(String))"
      ],
      "metadata": {
        "colab": {
          "base_uri": "https://localhost:8080/"
        },
        "id": "zEGqr7QdLQot",
        "outputId": "6671087a-faec-476b-db1b-c630f67c84a1"
      },
      "execution_count": 103,
      "outputs": [
        {
          "output_type": "stream",
          "name": "stdout",
          "text": [
            "{'FilePath': 'VOC2005_1/PNGImages/ETHZ_motorbike-testset/motorbikes005.png', 'class': 'motorbikeSide', 'xmin': '206', 'ymin': '242', 'xmax': '427', 'ymax': '365'}\n"
          ]
        }
      ]
    },
    {
      "cell_type": "markdown",
      "source": [
        "# Get the dataset"
      ],
      "metadata": {
        "id": "nGzeK-vKL2xn"
      }
    },
    {
      "cell_type": "code",
      "source": [
        "!wget http://host.robots.ox.ac.uk/pascal/VOC/download/voc2005_1.tar.gz"
      ],
      "metadata": {
        "colab": {
          "base_uri": "https://localhost:8080/"
        },
        "id": "w6hKocj8LjbI",
        "outputId": "e22c79b2-af97-4a8b-eb3f-0825b88f5456"
      },
      "execution_count": 53,
      "outputs": [
        {
          "output_type": "stream",
          "name": "stdout",
          "text": [
            "--2025-01-12 01:43:38--  http://host.robots.ox.ac.uk/pascal/VOC/download/voc2005_1.tar.gz\n",
            "Resolving host.robots.ox.ac.uk (host.robots.ox.ac.uk)... 129.67.94.152\n",
            "Connecting to host.robots.ox.ac.uk (host.robots.ox.ac.uk)|129.67.94.152|:80... connected.\n",
            "HTTP request sent, awaiting response... 200 OK\n",
            "Length: 487614356 (465M) [application/x-gzip]\n",
            "Saving to: ‘voc2005_1.tar.gz’\n",
            "\n",
            "voc2005_1.tar.gz    100%[===================>] 465.02M  29.5MB/s    in 18s     \n",
            "\n",
            "2025-01-12 01:43:56 (25.7 MB/s) - ‘voc2005_1.tar.gz’ saved [487614356/487614356]\n",
            "\n"
          ]
        }
      ]
    },
    {
      "cell_type": "code",
      "source": [
        "import tarfile\n",
        "with tarfile.open('voc2005_1.tar.gz', 'r:gz') as tar:\n",
        "        tar.extractall(path='.')\n"
      ],
      "metadata": {
        "id": "IzBgF91zMGso"
      },
      "execution_count": 54,
      "outputs": []
    },
    {
      "cell_type": "code",
      "source": [
        "import json\n",
        "import os\n",
        "def CreateJSONFromPascalDataSet( RootFilePath, JSONFileName ):\n",
        "    \"\"\"\n",
        "    Creates a JSON File from a Tree Structure of PASCAL VOC image data\n",
        "    PASCAL - Pattern Analysis, Statistical Modeling & Computational Learning\n",
        "             built by University of Oxford. The root directory is expected in the\n",
        "             following format\n",
        "              VOC\n",
        "              +->Annotations\n",
        "                    +->Class1\n",
        "                    +->Class2\n",
        "              +->GTMasks\n",
        "                    +->Class1\n",
        "                    +->Class2\n",
        "              +->PNGImages\n",
        "                    +->Class1\n",
        "                    +->Class2\n",
        "\n",
        "    Args:\n",
        "      RootFilePath - Dataset Root directory\n",
        "      JSONFileName - JSON File to save\n",
        "\n",
        "    Returns:\n",
        "       void\n",
        "    \"\"\"\n",
        "    # Write the data to a JSON file\n",
        "    JsonData = {}\n",
        "    Idx = 0\n",
        "    with open(JSONFileName, \"w\") as outfile:\n",
        "        for Root, Dirs, Files in os.walk( RootFilePath ):\n",
        "            for File in Files:\n",
        "                with open(Root + '/' + File, 'r') as TextFile:\n",
        "                    Text = TextFile.read()\n",
        "                    TextFile.close()\n",
        "                    tokens = ParsePascalString( Text )\n",
        "                    JsonData[ Idx ] = tokens\n",
        "                    Idx = Idx + 1\n",
        "\n",
        "        # convert dict to json\n",
        "        json_string = json.dumps(JsonData)\n",
        "        # write json  to disc\n",
        "        outfile.write(json_string)\n",
        "        outfile.close()\n",
        "\n",
        "\n"
      ],
      "metadata": {
        "id": "sPAthpnlKuNg"
      },
      "execution_count": 104,
      "outputs": []
    },
    {
      "cell_type": "code",
      "source": [
        "CreateJSONFromPascalDataSet('/content/VOC2005_1/Annotations','test.json')"
      ],
      "metadata": {
        "id": "ChIWi8rhNL2X"
      },
      "execution_count": 100,
      "outputs": []
    }
  ]
}