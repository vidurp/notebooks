{
  "nbformat": 4,
  "nbformat_minor": 0,
  "metadata": {
    "colab": {
      "provenance": [],
      "toc_visible": true,
      "authorship_tag": "ABX9TyN3jKR944cuMPfj/CEcXSqd"
    },
    "kernelspec": {
      "name": "python3",
      "display_name": "Python 3"
    },
    "language_info": {
      "name": "python"
    }
  },
  "cells": [
    {
      "cell_type": "markdown",
      "source": [
        "#What Is Pooling in Convolutional Neural Networks\n",
        "\n",
        "Pooling can be considered analogous to **pixel-Binning** in photography. In Binning we consolidate a small kernel of pixels into a single pixel. The Kernel applies a **`max`** or **`mean`** operation over the the Kernel to convert into one singular pixel. The binning process reduces N pixels to 1, causing a reduction in resolution, but improves SNR\n",
        "\n",
        "So in 2x2 binning 4 adjacent pixels are converted to 1 via average or max operation\n",
        "\n",
        "In CNN context, a Pooling Layer reduces the size of **feature maps (outputs on convolution layers**  by binning adjacent maps ( pixels in this analogy). It in turn reduces the computational load of a CNN and improves feature sensitivity\n",
        "\n",
        "\n",
        "There are two main types of pooling\n",
        "* **Average Pooling** `tf.keras.layers.MaxPoolXD`\n",
        "* **Max Pooling** `tf.keras.layers.AveragePoolingXD`"
      ],
      "metadata": {
        "id": "IhOrzfMIxbsS"
      }
    },
    {
      "cell_type": "code",
      "execution_count": 29,
      "metadata": {
        "colab": {
          "base_uri": "https://localhost:8080/"
        },
        "id": "eTu6GZBLviKV",
        "outputId": "ee312132-a871-4c34-bb36-e5d82dc1af7c"
      },
      "outputs": [
        {
          "output_type": "stream",
          "name": "stdout",
          "text": [
            "2.17.1\n"
          ]
        }
      ],
      "source": [
        "import tensorflow as tf\n",
        "print(tf.__version__)"
      ]
    },
    {
      "cell_type": "code",
      "source": [
        "tf.random.set_seed(42)\n",
        "X = tf.random.uniform(shape=(6,6),minval=1, maxval=20,dtype=tf.int32)\n",
        "\n",
        "# a 2D pooling macro expects a RANK-4 tensor with the following dimensions\n",
        "#\n",
        "#  data_format=\"channels_last\" => (batch_size, height, width, channels)\n",
        "#  data_format=\"channels_first\" =>  (batch_size, channels, height, width)\n",
        "#\n",
        "X = tf.reshape(X,[1,6,6,1])\n",
        "tf.squeeze(X)"
      ],
      "metadata": {
        "colab": {
          "base_uri": "https://localhost:8080/"
        },
        "id": "HOyV-Ai1vzjl",
        "outputId": "a8cd4dd9-8f47-4fd1-8e4f-02e776df526f"
      },
      "execution_count": 30,
      "outputs": [
        {
          "output_type": "execute_result",
          "data": {
            "text/plain": [
              "<tf.Tensor: shape=(6, 6), dtype=int32, numpy=\n",
              "array([[19,  4,  1,  3,  2,  9],\n",
              "       [11,  1,  6, 18,  2, 10],\n",
              "       [ 6, 17, 10,  9, 14,  7],\n",
              "       [ 8, 10, 12,  7,  3,  9],\n",
              "       [19,  6, 11,  1, 15,  1],\n",
              "       [13,  1, 17, 11,  7,  5]], dtype=int32)>"
            ]
          },
          "metadata": {},
          "execution_count": 30
        }
      ]
    },
    {
      "cell_type": "markdown",
      "source": [
        "## Max Pooling\n",
        "See [tensorflow docs](https://www.tensorflow.org/api_docs/python/tf/keras/layers/MaxPool2D)"
      ],
      "metadata": {
        "id": "bwgn68OpyZPP"
      }
    },
    {
      "cell_type": "code",
      "source": [
        "MaxPoolLayer=tf.keras.layers.MaxPool2D(pool_size=2,strides=2)\n",
        "Y = MaxPoolLayer(X)\n",
        "tf.squeeze(X),tf.squeeze(Y)"
      ],
      "metadata": {
        "colab": {
          "base_uri": "https://localhost:8080/"
        },
        "id": "2rL7j_uCwLcz",
        "outputId": "85a032eb-03b6-40d4-b57f-faa13d6745a2"
      },
      "execution_count": 31,
      "outputs": [
        {
          "output_type": "execute_result",
          "data": {
            "text/plain": [
              "(<tf.Tensor: shape=(6, 6), dtype=int32, numpy=\n",
              " array([[19,  4,  1,  3,  2,  9],\n",
              "        [11,  1,  6, 18,  2, 10],\n",
              "        [ 6, 17, 10,  9, 14,  7],\n",
              "        [ 8, 10, 12,  7,  3,  9],\n",
              "        [19,  6, 11,  1, 15,  1],\n",
              "        [13,  1, 17, 11,  7,  5]], dtype=int32)>,\n",
              " <tf.Tensor: shape=(3, 3), dtype=int32, numpy=\n",
              " array([[19, 18, 10],\n",
              "        [17, 12, 14],\n",
              "        [19, 17, 15]], dtype=int32)>)"
            ]
          },
          "metadata": {},
          "execution_count": 31
        }
      ]
    },
    {
      "cell_type": "markdown",
      "source": [
        "🔑 Note that the Pooled output contains MAX values over a 2x2 window over the input, The size of the output is reduced dramatically"
      ],
      "metadata": {
        "id": "_ZjJqwXRz_b7"
      }
    },
    {
      "cell_type": "markdown",
      "source": [
        "## Average Pooling\n",
        "See [tensorflow docs](https://www.tensorflow.org/api_docs/python/tf/keras/layers/AveragePooling2D)"
      ],
      "metadata": {
        "id": "9YJaJ1Tpya1v"
      }
    },
    {
      "cell_type": "code",
      "source": [
        "AvgPoolLayer=tf.keras.layers.AveragePooling2D(pool_size=2,strides=2)\n",
        "Z = AvgPoolLayer(tf.cast(X,tf.float32))\n",
        "tf.squeeze(X),tf.squeeze(Z)"
      ],
      "metadata": {
        "colab": {
          "base_uri": "https://localhost:8080/"
        },
        "id": "lOeFOqvzyc1_",
        "outputId": "ee663302-003d-4974-8d92-247044c830a7"
      },
      "execution_count": 27,
      "outputs": [
        {
          "output_type": "execute_result",
          "data": {
            "text/plain": [
              "(<tf.Tensor: shape=(6, 6), dtype=int32, numpy=\n",
              " array([[19,  4,  1,  3,  2,  9],\n",
              "        [11,  1,  6, 18,  2, 10],\n",
              "        [ 6, 17, 10,  9, 14,  7],\n",
              "        [ 8, 10, 12,  7,  3,  9],\n",
              "        [19,  6, 11,  1, 15,  1],\n",
              "        [13,  1, 17, 11,  7,  5]], dtype=int32)>,\n",
              " <tf.Tensor: shape=(3, 3), dtype=float32, numpy=\n",
              " array([[ 8.75,  7.  ,  5.75],\n",
              "        [10.25,  9.5 ,  8.25],\n",
              "        [ 9.75, 10.  ,  7.  ]], dtype=float32)>)"
            ]
          },
          "metadata": {},
          "execution_count": 27
        }
      ]
    },
    {
      "cell_type": "code",
      "source": [
        "((19+4+11+1) / 4),tf.squeeze(Z)[0,0]"
      ],
      "metadata": {
        "colab": {
          "base_uri": "https://localhost:8080/"
        },
        "id": "DxpTfzabKP2C",
        "outputId": "6697a366-756c-4f1b-be67-c86af84e939a"
      },
      "execution_count": 28,
      "outputs": [
        {
          "output_type": "execute_result",
          "data": {
            "text/plain": [
              "(8.75, <tf.Tensor: shape=(), dtype=float32, numpy=8.75>)"
            ]
          },
          "metadata": {},
          "execution_count": 28
        }
      ]
    },
    {
      "cell_type": "markdown",
      "source": [
        "🔑 Note that the Pooled output contains AVERAGED values over a 2x2 window over the input. The Size of the output is reduced dramatically"
      ],
      "metadata": {
        "id": "9IsJIfL50LvF"
      }
    }
  ]
}